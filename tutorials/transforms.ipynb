{
 "cells": [
  {
   "cell_type": "markdown",
   "metadata": {},
   "source": [
    "# How to add your own transforms in the ClinicaDL Transforms Zoo ?\n"
   ]
  },
  {
   "cell_type": "markdown",
   "metadata": {},
   "source": [
    "The goal of this tutorial is to add your own transforms to the ClinicaDL Transform Zoo because you think it can be usefull for other people. "
   ]
  },
  {
   "cell_type": "markdown",
   "metadata": {},
   "source": [
    "## STEP 1: Create the Transform"
   ]
  },
  {
   "cell_type": "markdown",
   "metadata": {},
   "source": [
    "First of all, create a new python file in `clinicadl_zoo/transforms/zoo` in which you create a new class that inherits from [torchio.Transforms](https://torchio.readthedocs.io/transforms/transforms.html#torchio.transforms.Transform). \n",
    "\n",
    "You only need to overwrite the ``__init__``, where you define your parameters (don't forget to define the list of these parameters is ``self.arg_names``), and the method ``apply_transform``, where you actually compute the transform.\n",
    "\n",
    "This latter must take as input and return a [DataPoint](https://clinicadl.readthedocs.io/en/latest/data/datapoint.html#clinicadl.data.structures.DataPoint). Inside, feel free to use the useful methods of DataPoint to compute your transforms. You will likely be particularly interested in ``get_images``, that enables you to iterate on all the images and masks in the DataPoint.\n",
    "\n",
    "PS: don't forget to call ``super().__init__()``!"
   ]
  },
  {
   "cell_type": "code",
   "execution_count": null,
   "metadata": {},
   "outputs": [],
   "source": [
    "# in zoo/my_custom_transform.py \n",
    "\n",
    "import torchio as tio\n",
    "from clinicadl.data.structures import DataPoint\n",
    "\n",
    "class MyCustomTransform(tio.Transform):\n",
    "    \"\"\"\n",
    "    To create a Custom transform in ClinicaDL. \n",
    "    Don't forget to write the docstring.\n",
    "    \"\"\"\n",
    "\n",
    "    def __init__(self, arg1: float, arg2: int, **kwargs):\n",
    "        \"\"\"\n",
    "        Don't forget to define the type of the arguments.\n",
    "        Args:\n",
    "            arg1 (int): Description of arg1.\n",
    "            arg2 (str): Description of arg2.\n",
    "            **kwargs: Additional arguments to be passed to the parent class.\n",
    "        \"\"\"\n",
    "        super().__init__(**kwargs)\n",
    "        self.arg1 = arg1\n",
    "        self.arg2 = arg2\n",
    "        self.args_names = [\"arg1\", \"arg2\"]\n",
    "\n",
    "    def apply_transform(self, datapoint: DataPoint) -> DataPoint:\n",
    "        \n",
    "        transformed_datapoint = datapoint\n",
    "        return transformed_datapoint"
   ]
  },
  {
   "cell_type": "markdown",
   "metadata": {},
   "source": [
    "## STEP 2: Add the name of your transform"
   ]
  },
  {
   "cell_type": "markdown",
   "metadata": {},
   "source": [
    "First you need to add name of your transform in the ``ZooTransform`` enum in the `clinicadl_zoo.transforms.enum`."
   ]
  },
  {
   "cell_type": "code",
   "execution_count": null,
   "metadata": {},
   "outputs": [],
   "source": [
    "#in zoo/config/enum.py\n",
    "\n",
    "from clinicadl.utils.enum import BaseEnum\n",
    "\n",
    "\n",
    "class ZooTransform(str, BaseEnum):\n",
    "    \"\"\"\n",
    "    Implemented transforms in ClinicaDL Transofrm Zoo.\n",
    "    see: https://torchio.readthedocs.io/transforms/transforms.html\n",
    "    \"\"\"\n",
    "\n",
    "    NAN_REMOVAL = \"NanRemoval\"\n",
    "    MY_CUSTOM_TRANSFORM = \"MyCustomTransform\"\n"
   ]
  },
  {
   "cell_type": "markdown",
   "metadata": {},
   "source": [
    "## STEP 3: Create the config class asociated to your transform"
   ]
  },
  {
   "cell_type": "markdown",
   "metadata": {},
   "source": [
    "ClinicaDL uses configuration classes to enhance the reproducibility of your code.  \n",
    "For each transform compatible with ClinicaDL, a corresponding config class is required.  \n",
    "This class must inherit from `TransformConfig` in `clinicadl.transforms.config.base` and **must be named** as the transform followed by \"Config\".\n",
    "\n",
    "To implement your config class, you only need to override the following:\n",
    "\n",
    "- The ``__init__`` method, where you define your parameters (as shown above),\n",
    "- The ``name`` property, which should match the value you added in the ``ZooTransform`` enum,\n",
    "- The ``_get_class`` method, which should return the transform class associated with this configuration (i.e., the one you just implemented above).\n"
   ]
  },
  {
   "cell_type": "code",
   "execution_count": null,
   "metadata": {},
   "outputs": [],
   "source": [
    "# in zoo/config/my_custom_transform_config.py\n",
    "from typing import Union\n",
    "\n",
    "import torchio as tio\n",
    "from pydantic import computed_field\n",
    "\n",
    "\n",
    "from clinicadl.utils.config import DefaultFromLibrary\n",
    "from clinicadl.transforms.config import TransformConfig\n",
    "\n",
    "# from clinicadl_zoo.transforms import ZooTransform\n",
    "# from ..transforms import MyCustomTransform\n",
    "\n",
    "\n",
    "class MyCustomTransformConfig(TransformConfig):\n",
    "    \"\"\"\n",
    "    Config class for :py:class:`clinicadl.transforms.zoo.transforms.MyCustomTransform <clinicadl.transforms.zoo.transforms.MyCustomTransform>`.\n",
    "    \"\"\"\n",
    "\n",
    "    arg1: float\n",
    "    arg2: int\n",
    "\n",
    "    def __init__(\n",
    "        self,\n",
    "        arg1: Union[float, DefaultFromLibrary] = DefaultFromLibrary.YES,\n",
    "        arg2: Union[int, DefaultFromLibrary] = DefaultFromLibrary.YES,\n",
    "    ):\n",
    "        super().__init__(arg1=arg1, arg2=arg2)\n",
    "\n",
    "    @computed_field\n",
    "    @property\n",
    "    def name(self) -> str:\n",
    "        \"\"\"The name of the transform.\"\"\"\n",
    "        return ZooTransform.MY_CUSTOM_TRANSFORM.value \n",
    "\n",
    "    def _get_class(self) -> type[tio.Transform]:\n",
    "        \"\"\"Returns the transform associated to this config class.\"\"\"\n",
    "        return MyCustomTransform\n"
   ]
  },
  {
   "cell_type": "markdown",
   "metadata": {},
   "source": [
    "> 💡 **Reminder:** Don’t forget to update the relevant `__init__.py` files and the `zoo.config.factory.py` with the necessary imports if you want your transform to be accessible throughout the codebase.\n"
   ]
  },
  {
   "cell_type": "markdown",
   "metadata": {},
   "source": [
    "Now you should be able to use the `CapsDataset` module with your custom transform just like any other transform in ClinicaDL.  \n",
    "If needed, you can refer to our [tutorial on how to use the `CapsDataset` module](#) for guidance.\n"
   ]
  },
  {
   "cell_type": "markdown",
   "metadata": {},
   "source": [
    "## STEP 4: Create a Pull Request in the repository "
   ]
  },
  {
   "cell_type": "markdown",
   "metadata": {},
   "source": [
    "Once everything is implemented and tested, you should open a pull request on the [ClinicaDL GitHub repository](https://github.com/aramis-lab/clinicadl).  \n",
    "Make sure to briefly describe your transform, its purpose, and any parameters it introduces. This helps the maintainers review and integrate your contribution more efficiently.\n",
    "\n",
    "If you have any questions or run into issues during the process, don’t hesitate to contact us — we’re happy to help!\n"
   ]
  }
 ],
 "metadata": {
  "kernelspec": {
   "display_name": "Python 3",
   "language": "python",
   "name": "python3"
  },
  "language_info": {
   "codemirror_mode": {
    "name": "ipython",
    "version": 3
   },
   "file_extension": ".py",
   "mimetype": "text/x-python",
   "name": "python",
   "nbconvert_exporter": "python",
   "pygments_lexer": "ipython3",
   "version": "3.10.9"
  }
 },
 "nbformat": 4,
 "nbformat_minor": 2
}
